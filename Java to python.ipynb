{
 "cells": [
  {
   "cell_type": "code",
   "execution_count": 1,
   "id": "f49bcda0-3b79-4320-942d-55710f13a6e7",
   "metadata": {},
   "outputs": [],
   "source": [
    "#convert java to python using gpt4o mini and display and run code in an interface"
   ]
  },
  {
   "cell_type": "code",
   "execution_count": 64,
   "id": "ff991477-5b96-4275-9361-98bc2bad45df",
   "metadata": {},
   "outputs": [],
   "source": [
    "# imports\n",
    "\n",
    "import os\n",
    "import io\n",
    "import sys\n",
    "import json\n",
    "import traceback\n",
    "import requests\n",
    "from dotenv import load_dotenv\n",
    "from openai import OpenAI\n",
    "from IPython.display import Markdown, display, update_display\n",
    "import gradio as gr\n",
    "import subprocess"
   ]
  },
  {
   "cell_type": "code",
   "execution_count": 12,
   "id": "32dc20dd-f602-46c7-adf4-49ce09cfb713",
   "metadata": {},
   "outputs": [],
   "source": [
    "load_dotenv()\n",
    "openai_api_key=os.getenv('OPENAI_API_KEY')\n",
    "openai=OpenAI()\n",
    "MODEL=\"gpt-4o-mini\""
   ]
  },
  {
   "cell_type": "code",
   "execution_count": 34,
   "id": "757661ce-8d03-463a-8e2f-fed8501a4e48",
   "metadata": {},
   "outputs": [],
   "source": [
    "system_message=\"You are a code convertor assistant whose job is to reimplement code written in java to python\\\n",
    "for a Dell ARM64 Snapdragon X Plus Windows laptop. Respond only with python and include the imports and use comments\\\n",
    "and explanantions sparingly. Ensure that the output, logic of both the codes are identical for any given input\\\n",
    "and that the output is produced in the fastest possible time. You must maintain the purpose of the code and not\\\n",
    "change the logic, utility or output. DO NOT include example or sample outputs!\"\n"
   ]
  },
  {
   "cell_type": "code",
   "execution_count": 35,
   "id": "d62c2e45-df07-46c2-976c-13c567d14ca6",
   "metadata": {},
   "outputs": [],
   "source": [
    "def user_prompt(java_code):\n",
    "    user_prompt=\"Below attached is the java code which you must convert to python code while ensuring that the \\\n",
    "    output, purpose and logic of the program is maintained identical. Respond only with python and use comments \\\n",
    "    sparingly.\"\n",
    "    user_prompt+=java_code\n",
    "    return user_prompt"
   ]
  },
  {
   "cell_type": "code",
   "execution_count": 36,
   "id": "90658967-ed3a-4daf-8214-bf47999f4090",
   "metadata": {},
   "outputs": [],
   "source": [
    "def messages_for(java_code):\n",
    "    messages=[\n",
    "        {\"role\":\"system\",\"content\":system_message},\n",
    "        {\"role\":\"user\",\"content\":user_prompt(java_code)}\n",
    "    ]\n",
    "    return messages"
   ]
  },
  {
   "cell_type": "code",
   "execution_count": 37,
   "id": "0d591519-71dd-4eb5-a202-3ba29ccf3705",
   "metadata": {},
   "outputs": [],
   "source": [
    "def write_output(python_code):\n",
    "    code = python_code.replace(\"```python\",\"\").replace(\"```\",\"\")\n",
    "    with open(\"optimized.py\", \"w\") as f:\n",
    "        f.write(code)"
   ]
  },
  {
   "cell_type": "code",
   "execution_count": 48,
   "id": "ed8aaa19-55fd-4333-bc7c-b0db98f091e9",
   "metadata": {},
   "outputs": [],
   "source": [
    "\n",
    "def optimize(java_code):\n",
    "    stream=openai.chat.completions.create(model=MODEL, messages=messages_for(java_code),stream=True)\n",
    "    reply=\"\"\n",
    "    for chunk in stream:\n",
    "        fragment=chunk.choices[0].delta.content or \"\"\n",
    "        reply+=fragment\n",
    "        print(fragment,end=' ',flush=True)\n",
    "    write_output(reply)\n",
    "    return reply"
   ]
  },
  {
   "cell_type": "code",
   "execution_count": 51,
   "id": "121e23cd-890d-41f0-8d6f-5f4c61f28f91",
   "metadata": {},
   "outputs": [],
   "source": [
    "#Sample java code for testing - checking for an armstrong number\n",
    "java_code=\"\"\"\n",
    "import java.util.Scanner;\n",
    "\n",
    "public class ArmstrongChecker {\n",
    "    public static void main(String[] args) {\n",
    "        Scanner scanner = new Scanner(System.in);\n",
    "        int number = scanner.nextInt();\n",
    "        int originalNumber = number;\n",
    "        int numDigits = String.valueOf(number).length();\n",
    "        int sum = 0;\n",
    "        \n",
    "        while (number > 0) {\n",
    "            int digit = number % 10;\n",
    "            sum += Math.pow(digit, numDigits);\n",
    "            number /= 10;\n",
    "        }\n",
    "        \n",
    "        if (sum == originalNumber) {\n",
    "            System.out.println(\"Armstrong number\");\n",
    "        } else {\n",
    "            System.out.println(\"Not an Armstrong number\");\n",
    "        }\n",
    "        \n",
    "        scanner.close();\n",
    "    }\n",
    "}\n",
    "\"\"\""
   ]
  },
  {
   "cell_type": "code",
   "execution_count": null,
   "id": "cf8d6986-57d1-461e-b8cc-77d477c60454",
   "metadata": {},
   "outputs": [],
   "source": [
    "with gr.Blocks() as ui:\n",
    "    with gr.Row():\n",
    "        java=gr.Textbox(label=\"Java Code:\", lines=25, value=\"\",placeholder=\"Type your Java code here...\")\n",
    "        python=gr.Textbox(label=\"Python Code:\",lines=25)\n",
    "    with gr.Row():\n",
    "        convert=gr.Button(\"Convert code\")\n",
    "    convert.click(optimize,inputs=[java],outputs=[python])\n",
    "ui.launch(inbrowser=True)\n",
    "    "
   ]
  },
  {
   "cell_type": "code",
   "execution_count": 78,
   "id": "bb5bb84c-2096-4a6b-b419-d47947f4c4b7",
   "metadata": {},
   "outputs": [],
   "source": [
    "def python_execute(code,user_input):\n",
    "    try:\n",
    "        cleaned_code = code.strip()\n",
    "        cleaned_code = cleaned_code.replace(\"```python\", \"\").replace(\"```\", \"\")\n",
    "        \n",
    "        \n",
    "        if not user_input.strip():\n",
    "            return \"Error: No input provided. Please enter a value in the 'Python Input' textbox.\"\n",
    "        \n",
    "        \n",
    "        input_lines = [line.strip() for line in user_input.splitlines() if line.strip()]\n",
    "        formatted_input = \"\\n\".join(input_lines) + \"\\n\"  \n",
    "        \n",
    "       \n",
    "        input_buffer = io.StringIO(formatted_input)\n",
    "        sys.stdin = input_buffer\n",
    "        \n",
    "        # Capture stdout\n",
    "        output = io.StringIO()\n",
    "        sys.stdout = output\n",
    "        \n",
    "        # Execute the code (only once)\n",
    "        exec(cleaned_code)\n",
    "        \n",
    "        # Restore stdout and stdin\n",
    "        sys.stdout = sys.__stdout__\n",
    "        sys.stdin = sys.__stdin__\n",
    "        return output.getvalue() or \"No output (code executed successfully)\"\n",
    "    except ValueError as e:\n",
    "        sys.stdout = sys.__stdout__\n",
    "        sys.stdin = sys.__stdin__\n",
    "        return f\"Error: Invalid input. Please enter a valid number.\\n{str(e)}\\n{traceback.format_exc()}\"\n",
    "    except EOFError as e:\n",
    "        sys.stdout = sys.__stdout__\n",
    "        sys.stdin = sys.__stdin__\n",
    "        return f\"Error: EOFError - Not enough input provided for the number of input() calls.\\n{str(e)}\\n{traceback.format_exc()}\"\n",
    "    except Exception as e:\n",
    "        sys.stdout = sys.__stdout__\n",
    "        sys.stdin = sys.__stdin__\n",
    "        return f\"Error: {str(e)}\\n{traceback.format_exc()}\""
   ]
  },
  {
   "cell_type": "code",
   "execution_count": 79,
   "id": "929ad687-a0eb-4f43-829e-4200a12b93c0",
   "metadata": {},
   "outputs": [],
   "source": [
    "css=\"\"\"\n",
    "#.java {background-color: #306998;}\n",
    ".python{background-color: #050}\n",
    "\"\"\""
   ]
  },
  {
   "cell_type": "code",
   "execution_count": 80,
   "id": "cf032f0c-3fa5-498a-a2d8-d545d682be6f",
   "metadata": {},
   "outputs": [
    {
     "data": {
      "text/html": [
       "<div><iframe src=\"http://127.0.0.1:7873/\" width=\"100%\" height=\"500\" allow=\"autoplay; camera; microphone; clipboard-read; clipboard-write;\" frameborder=\"0\" allowfullscreen></iframe></div>"
      ],
      "text/plain": [
       "<IPython.core.display.HTML object>"
      ]
     },
     "metadata": {},
     "output_type": "display_data"
    },
    {
     "data": {
      "text/plain": []
     },
     "execution_count": 80,
     "metadata": {},
     "output_type": "execute_result"
    }
   ],
   "source": [
    "with gr.Blocks(css=css) as ui:\n",
    "    gr.Markdown(\"## Convert code from Java to Python\")\n",
    "    with gr.Row():\n",
    "        java = gr.Textbox(label=\"Java Code:\", lines=20, value=\"\", placeholder=\"Type your Java code here...\")\n",
    "        python = gr.Textbox(label=\"Python Code:\", lines=20)\n",
    "    with gr.Row():\n",
    "        convert = gr.Button(\"Convert code\")\n",
    "        #java_run = gr.Button(\"Run Java\")  # Not implemented\n",
    "        python_run = gr.Button(\"Run Python\")\n",
    "    with gr.Row():\n",
    "        python_input = gr.Textbox(label=\"Python Input (one line per input call):\", placeholder=\"Enter input for Python code...\")\n",
    "    with gr.Row():\n",
    "        #java_out = gr.TextArea(label=\"Java Results:\", elem_classes=[\"java\"])\n",
    "        python_out = gr.TextArea(label=\"Python Results:\", elem_classes=[\"python\"])\n",
    "\n",
    "    convert.click(optimize, inputs=[java], outputs=[python])\n",
    "    python_run.click(python_execute, inputs=[python, python_input], outputs=[python_out])\n",
    "\n",
    "ui.launch(inbrowser=True)"
   ]
  },
  {
   "cell_type": "code",
   "execution_count": null,
   "id": "8aff7f13-a7b0-4fa9-bfc2-74fa9fbd04a9",
   "metadata": {},
   "outputs": [],
   "source": []
  }
 ],
 "metadata": {
  "kernelspec": {
   "display_name": "Python 3 (ipykernel)",
   "language": "python",
   "name": "python3"
  },
  "language_info": {
   "codemirror_mode": {
    "name": "ipython",
    "version": 3
   },
   "file_extension": ".py",
   "mimetype": "text/x-python",
   "name": "python",
   "nbconvert_exporter": "python",
   "pygments_lexer": "ipython3",
   "version": "3.11.11"
  }
 },
 "nbformat": 4,
 "nbformat_minor": 5
}
