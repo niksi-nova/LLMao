{
 "cells": [
  {
   "cell_type": "markdown",
   "id": "fe12c203-e6a6-452c-a655-afb8a03a4ff5",
   "metadata": {},
   "source": [
    "# Simple Chatbot to answer doubts related to python & LLM Engineering using OPENAI API and OLLAMA\n",
    "\n"
   ]
  },
  {
   "cell_type": "code",
   "execution_count": 16,
   "id": "c1070317-3ed9-4659-abe3-828943230e03",
   "metadata": {},
   "outputs": [],
   "source": [
    "# imports\n",
    "import os\n",
    "import requests\n",
    "import json\n",
    "import ollama\n",
    "from typing import List\n",
    "from dotenv import load_dotenv\n",
    "from bs4 import BeautifulSoup\n",
    "from IPython.display import Markdown, display, update_display\n",
    "from openai import OpenAI"
   ]
  },
  {
   "cell_type": "code",
   "execution_count": 12,
   "id": "4a456906-915a-4bfd-bb9d-57e505c5093f",
   "metadata": {},
   "outputs": [],
   "source": [
    "# constants\n",
    "load_dotenv(override=True)\n",
    "api_key = os.getenv(\"OPENAI_API_KEY\")\n",
    "openai=OpenAI()\n",
    "\n",
    "\n",
    "MODEL_GPT = 'gpt-4o-mini'\n",
    "MODEL_LLAMA = 'llama3.2'"
   ]
  },
  {
   "cell_type": "code",
   "execution_count": null,
   "id": "a8d7923c-5f28-4c30-8556-342d7c8497c1",
   "metadata": {},
   "outputs": [],
   "source": [
    "# set up environment\n",
    "load_dotenv(override=True)\n",
    "api_key = os.getenv(\"OPENAI_API_KEY\")\n",
    "openai=OpenAI() "
   ]
  },
  {
   "cell_type": "code",
   "execution_count": 4,
   "id": "51f6fadb-f9dd-4be1-b46a-2349f3b3be32",
   "metadata": {},
   "outputs": [],
   "source": [
    "system_prompt=\"You are a python coding assistant. You are going to help understand a given block of code\\\n",
    "or explain topic doubts with respect to LLM engineering for a person who is doing a beginner to advance \\\n",
    "llm generative ai engineering course.\"\n"
   ]
  },
  {
   "cell_type": "code",
   "execution_count": 5,
   "id": "3f0d0137-52b0-47a8-81a8-11a90a010798",
   "metadata": {},
   "outputs": [],
   "source": [
    "def user_prompt():\n",
    "    question = input(\"Please ask your doubt: \")\n",
    "    user_prompt=\"Please give a detailed explanation to the following question\"+question\n",
    "    return user_prompt"
   ]
  },
  {
   "cell_type": "code",
   "execution_count": 8,
   "id": "d47896e8-3a2d-42b5-b10e-b873f4f8dd55",
   "metadata": {},
   "outputs": [],
   "source": [
    "def bugsy():\n",
    "    response1= openai.chat.completions.create(\n",
    "        messages=[\n",
    "        {\"role\":\"system\",\"content\":\"system_prompt\"},\n",
    "        {\"role\":\"user\",\"content\":user_prompt()},\n",
    "        ],\n",
    "        model = MODEL_GPT,\n",
    "        stream=True\n",
    "    )\n",
    "    response = \"\"\n",
    "    display_handle = display(Markdown(\"\"), display_id=True)\n",
    "    for chunk in response1:\n",
    "        response += chunk.choices[0].delta.content or ''\n",
    "        response = response.replace(\"```\",\"\").replace(\"markdown\", \"\")\n",
    "        update_display(Markdown(response), display_id=display_handle.display_id)"
   ]
  },
  {
   "cell_type": "code",
   "execution_count": null,
   "id": "60ce7000-a4a5-4cce-a261-e75ef45063b4",
   "metadata": {},
   "outputs": [],
   "source": [
    "bugsy()"
   ]
  },
  {
   "cell_type": "code",
   "execution_count": 19,
   "id": "1387079e-a6a8-4ae9-ab08-8aaebdb73ae9",
   "metadata": {},
   "outputs": [],
   "source": [
    "#using llama 3.2 instead of gpt 4o mini\n",
    "\n",
    "OLLAMA_API = \"http://localhost:11434/api/chat\"\n",
    "HEADERS = {\"Content-Type\": \"application/json\"}\n",
    "MODEL = \"llama3.2\""
   ]
  },
  {
   "cell_type": "code",
   "execution_count": null,
   "id": "8f7c8ea8-4082-4ad0-8751-3301adcf6538",
   "metadata": {},
   "outputs": [],
   "source": [
    "\n",
    "response = ollama.chat(model=MODEL_LLAMA, messages=[\n",
    "        {\"role\":\"system\",\"content\":\"system_prompt\"},\n",
    "        {\"role\":\"user\",\"content\":user_prompt()},\n",
    "        ])\n",
    "reply = response['message']['content']\n",
    "display(Markdown(reply))"
   ]
  },
  {
   "cell_type": "code",
   "execution_count": null,
   "id": "4618c4c1-7e4b-4003-a871-f9d559c10f14",
   "metadata": {},
   "outputs": [],
   "source": []
  }
 ],
 "metadata": {
  "kernelspec": {
   "display_name": "Python 3 (ipykernel)",
   "language": "python",
   "name": "python3"
  },
  "language_info": {
   "codemirror_mode": {
    "name": "ipython",
    "version": 3
   },
   "file_extension": ".py",
   "mimetype": "text/x-python",
   "name": "python",
   "nbconvert_exporter": "python",
   "pygments_lexer": "ipython3",
   "version": "3.11.11"
  }
 },
 "nbformat": 4,
 "nbformat_minor": 5
}
