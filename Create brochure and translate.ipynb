{
 "cells": [
  {
   "cell_type": "code",
   "execution_count": 7,
   "id": "78086a1c-b7c2-463f-ad71-97e70d24f4f8",
   "metadata": {},
   "outputs": [],
   "source": [
    "#Code to create a company brochure based on their website and its links using multi shot prompting"
   ]
  },
  {
   "cell_type": "code",
   "execution_count": 2,
   "id": "cc1127c7-419b-4856-b82b-862589018c01",
   "metadata": {},
   "outputs": [],
   "source": [
    "#Translate the given brochure into Kannada and display"
   ]
  },
  {
   "cell_type": "code",
   "execution_count": 3,
   "id": "5dd122df-f10a-4708-87f2-cce6e3238dae",
   "metadata": {},
   "outputs": [],
   "source": [
    "# imports\n",
    "# If these fail, please check you're running from an 'activated' environment with (llms) in the command prompt\n",
    "\n",
    "import os\n",
    "import requests\n",
    "import json\n",
    "from typing import List\n",
    "from dotenv import load_dotenv\n",
    "from bs4 import BeautifulSoup\n",
    "from IPython.display import Markdown, display, update_display\n",
    "from openai import OpenAI"
   ]
  },
  {
   "cell_type": "code",
   "execution_count": 5,
   "id": "30d6baaf-fa5f-4740-bc97-ae36b28b3ff7",
   "metadata": {},
   "outputs": [
    {
     "name": "stdout",
     "output_type": "stream",
     "text": [
      "API key looks good so far\n"
     ]
    }
   ],
   "source": [
    "# Initialize and constants\n",
    "\n",
    "load_dotenv(override=True)\n",
    "api_key = os.getenv('OPENAI_API_KEY')\n",
    "\n",
    "if api_key and api_key.startswith('sk-proj-') and len(api_key)>10:\n",
    "    print(\"API key looks good so far\")\n",
    "else:\n",
    "    print(\"There might be a problem with your API key?\")\n",
    "    \n",
    "MODEL = 'gpt-4o-mini'\n",
    "openai = OpenAI()"
   ]
  },
  {
   "cell_type": "code",
   "execution_count": 6,
   "id": "dfd89eee-d1f3-4a32-8243-6c66d2c2bec2",
   "metadata": {},
   "outputs": [],
   "source": [
    "headers = {\n",
    " \"User-Agent\": \"Mozilla/5.0 (Windows NT 10.0; Win64; x64) AppleWebKit/537.36 (KHTML, like Gecko) Chrome/117.0.0.0 Safari/537.36\"\n",
    "}\n",
    "\n",
    "class Website:\n",
    "    \"\"\"\n",
    "    A utility class to represent a Website that we have scraped, now with links\n",
    "    \"\"\"\n",
    "\n",
    "    def __init__(self, url):\n",
    "        self.url = url\n",
    "        response = requests.get(url, headers=headers)\n",
    "        self.body = response.content\n",
    "        soup = BeautifulSoup(self.body, 'html.parser')\n",
    "        self.title = soup.title.string if soup.title else \"No title found\"\n",
    "        if soup.body:\n",
    "            for irrelevant in soup.body([\"script\", \"style\", \"img\", \"input\"]):\n",
    "                irrelevant.decompose()\n",
    "            self.text = soup.body.get_text(separator=\"\\n\", strip=True)\n",
    "        else:\n",
    "            self.text = \"\"\n",
    "        links = [link.get('href') for link in soup.find_all('a')]\n",
    "        self.links = [link for link in links if link]\n",
    "\n",
    "    def get_contents(self):\n",
    "        return f\"Webpage Title:\\n{self.title}\\nWebpage Contents:\\n{self.text}\\n\\n\""
   ]
  },
  {
   "cell_type": "code",
   "execution_count": 8,
   "id": "0e29a878-f356-4fb1-afa0-61bd7698cbf0",
   "metadata": {},
   "outputs": [],
   "source": [
    "link_system_prompt = \"\"\"You are provided with a list of links found on a webpage. \n",
    "Your task is to determine which of these links are most relevant to include in a company brochure. \n",
    "Relevant links include those pointing to an About page, a Company page, or Careers/Jobs pages.\n",
    "\n",
    "You should respond in JSON format, as shown in the following examples:\n",
    "\n",
    "Example 1:\n",
    "Input Links:\n",
    "[\n",
    "    \"https://example.com/home\",\n",
    "    \"https://example.com/about\",\n",
    "    \"https://example.com/contact\",\n",
    "    \"https://example.com/careers\"\n",
    "]\n",
    "\n",
    "Response:\n",
    "{\n",
    "    \"links\": [\n",
    "        {\"type\": \"about page\", \"url\": \"https://example.com/about\"},\n",
    "        {\"type\": \"careers page\", \"url\": \"https://example.com/careers\"}\n",
    "    ]\n",
    "}\n",
    "\n",
    "Example 2:\n",
    "Input Links:\n",
    "[\n",
    "    \"https://company.com/index\",\n",
    "    \"https://company.com/our-story\",\n",
    "    \"https://company.com/team\",\n",
    "    \"https://company.com/jobs\"\n",
    "]\n",
    "\n",
    "Response:\n",
    "{\n",
    "    \"links\": [\n",
    "        {\"type\": \"about page\", \"url\": \"https://company.com/our-story\"},\n",
    "        {\"type\": \"careers page\", \"url\": \"https://company.com/jobs\"}\n",
    "    ]\n",
    "}\n",
    "\n",
    "Now, given a new list of links, provide a JSON response in the same format.\n",
    "\"\"\"\n"
   ]
  },
  {
   "cell_type": "code",
   "execution_count": 9,
   "id": "4d675eaf-83a5-498a-a8ce-e8e0d1da739f",
   "metadata": {},
   "outputs": [],
   "source": [
    "def get_links_user_prompt(website):\n",
    "    user_prompt = f\"Here is the list of links on the website of {website.url} - \"\n",
    "    user_prompt += \"please decide which of these are relevant web links for a brochure about the company, respond with the full https URL in JSON format. \\\n",
    "Do not include Terms of Service, Privacy, email links.\\n\"\n",
    "    user_prompt += \"Links (some might be relative links):\\n\"\n",
    "    user_prompt += \"\\n\".join(website.links)\n",
    "    return user_prompt"
   ]
  },
  {
   "cell_type": "code",
   "execution_count": 10,
   "id": "5f381477-56e6-40b6-9b1f-029076021399",
   "metadata": {},
   "outputs": [],
   "source": [
    "def get_links(url):\n",
    "    website = Website(url)\n",
    "    response = openai.chat.completions.create(\n",
    "        model=MODEL,\n",
    "        messages=[\n",
    "            {\"role\": \"system\", \"content\": link_system_prompt},\n",
    "            {\"role\": \"user\", \"content\": get_links_user_prompt(website)}\n",
    "      ],\n",
    "        response_format={\"type\": \"json_object\"}\n",
    "    )\n",
    "    result = response.choices[0].message.content\n",
    "    return json.loads(result)"
   ]
  },
  {
   "cell_type": "code",
   "execution_count": 11,
   "id": "53f592c6-2726-4d26-8df9-0382b7ce0654",
   "metadata": {},
   "outputs": [],
   "source": [
    "def get_all_details(url):\n",
    "    result = \"Landing page:\\n\"\n",
    "    result += Website(url).get_contents()\n",
    "    links = get_links(url)\n",
    "    print(\"Found links:\", links)\n",
    "    for link in links[\"links\"]:\n",
    "        result += f\"\\n\\n{link['type']}\\n\"\n",
    "        result += Website(link[\"url\"]).get_contents()\n",
    "    return result"
   ]
  },
  {
   "cell_type": "code",
   "execution_count": 12,
   "id": "2b2846e6-e65f-4a0a-90c0-c0da569d336e",
   "metadata": {},
   "outputs": [],
   "source": [
    "system_prompt = \"You are an assistant that analyzes the contents of several relevant pages from a company website \\\n",
    "and creates a short brochure about the company for prospective customers, investors and recruits. Respond in markdown.\\\n",
    "Include details of company culture, customers and careers/jobs if you have the information.\""
   ]
  },
  {
   "cell_type": "code",
   "execution_count": 13,
   "id": "13c1ff62-d6a3-4af8-bc51-878fcfda5009",
   "metadata": {},
   "outputs": [],
   "source": [
    "def get_brochure_user_prompt(company_name, url):\n",
    "    user_prompt = f\"You are looking at a company called: {company_name}\\n\"\n",
    "    user_prompt += f\"Here are the contents of its landing page and other relevant pages; use this information to build a short brochure of the company in markdown.\\n\"\n",
    "    user_prompt += get_all_details(url)\n",
    "    user_prompt = user_prompt[:5_000] # Truncate if more than 5,000 characters\n",
    "    return user_prompt"
   ]
  },
  {
   "cell_type": "code",
   "execution_count": 14,
   "id": "e439b413-3155-4f62-8266-a9df1d575814",
   "metadata": {},
   "outputs": [],
   "source": [
    "def create_brochure(company_name, url):\n",
    "    response = openai.chat.completions.create(\n",
    "        model=MODEL,\n",
    "        messages=[\n",
    "            {\"role\": \"system\", \"content\": system_prompt},\n",
    "            {\"role\": \"user\", \"content\": get_brochure_user_prompt(company_name, url)}\n",
    "          ],\n",
    "    )\n",
    "    result = response.choices[0].message.content\n",
    "    #display(Markdown(result))\n",
    "    return result"
   ]
  },
  {
   "cell_type": "code",
   "execution_count": 15,
   "id": "3cc308a5-6f61-43b9-8b38-e82b892f3d30",
   "metadata": {},
   "outputs": [],
   "source": [
    "system_prompt2=\"You are a translator who translates company brochures originally in english to Kannada. \\\n",
    "maintain the exact meaning and formatting of the input brochure where the input brochure will be given in markdown.\\\n",
    "give the translated text in markdown as well\""
   ]
  },
  {
   "cell_type": "code",
   "execution_count": 16,
   "id": "3b0bf515-42b5-454c-9bac-a523181baff5",
   "metadata": {},
   "outputs": [],
   "source": [
    "def translate_user_prompt(company_name,url):\n",
    "    brochure = create_brochure(company_name,url)\n",
    "    user_prompt=\"You are given a brochure in markdown format in english as below + \\n\"\n",
    "    user_prompt+=brochure\n",
    "    user_prompt+=\"Translate the entire brochure to Kannada and reply in markdown\"\n",
    "    return user_prompt\n",
    "    "
   ]
  },
  {
   "cell_type": "code",
   "execution_count": 18,
   "id": "216f16fc-6185-44ca-951c-114f686205e8",
   "metadata": {},
   "outputs": [],
   "source": [
    "def stream_translated_brochure(company_name, url):\n",
    "    stream = openai.chat.completions.create(\n",
    "        model=MODEL,\n",
    "        messages=[\n",
    "            {\"role\": \"system\", \"content\": system_prompt},\n",
    "            {\"role\": \"user\", \"content\": translate_user_prompt(company_name, url)}\n",
    "          ],\n",
    "        stream=True\n",
    "    )\n",
    "    \n",
    "    response = \"\"\n",
    "    display_handle = display(Markdown(\"\"), display_id=True)\n",
    "    for chunk in stream:\n",
    "        response += chunk.choices[0].delta.content or ''\n",
    "        response = response.replace(\"```\",\"\").replace(\"markdown\", \"\")\n",
    "        update_display(Markdown(response), display_id=display_handle.display_id)"
   ]
  },
  {
   "cell_type": "code",
   "execution_count": 19,
   "id": "75cd925f-6ea9-4086-a61a-b0e04eeb9bc2",
   "metadata": {},
   "outputs": [
    {
     "name": "stdout",
     "output_type": "stream",
     "text": [
      "Found links: {'links': [{'type': 'about page', 'url': 'https://huggingface.co/huggingface'}, {'type': 'careers page', 'url': 'https://apply.workable.com/huggingface/'}]}\n"
     ]
    },
    {
     "data": {
      "text/markdown": [
       "# ಹಗಿಂಗ್ ಫೇಸ್ ಬ್ರೋಶರ್\n",
       "\n",
       "### ಭವಿಷ್ಯವನ್ನು ರೂಪಿಸುತ್ತಿರುವ ಎಐ ಸಮುದಾಯ\n",
       "\n",
       "ಹಗಿಂಗ್ ಫೇಸ್ ಒಂದು ಪ್ರಮುಖ ವೇದಿಕೆಯಾಗಿದ್ದು, ಯಾಂತ್ರಿಕ ಕಲಿಕೆ ಸಮುದಾಯವನ್ನು ಒಟ್ಟುಗೂಡಿಸುತ್ತದೆ, ಮಾದರಿಗಳು, ಡೇಟಾಸೆಟ್‌ಗಳು ಮತ್ತು ಅಪ್ಲಿಕೇಶನ್‌ಗಳ ಮೇಲೆ ಸಹಕಾರವನ್ನು ಉತ್ತೇಜಿಸುತ್ತದೆ. 10% ವೈದ್ಯಕೀಯ ಸಂಪತ್ತು ನುರಿತ ಸಮುದಾಯವು AI ಸಹಾಯದಿಂದ ಭಾರತದಲ್ಲಿ ತಂತ್ರಜ್ಞಾನವನ್ನು ಮತ್ತು ತಂತ್ರಾಂತರವನ್ನು ಉತ್ತೇಜಿಸ್ತದೆ. \n",
       "\n",
       "---\n",
       "\n",
       "## ನಮ್ಮ ಬಗ್ಗೆ\n",
       "\n",
       "ಹಗಿಂಗ್ ಫೇಸ್‌ನಲ್ಲಿ, ಸಮುದಾಯದ ಶಕ್ತಿಯಲ್ಲಿ ನಮಗೆ ನಂಬಿಕೆ ಇದೆ. ಪ್ರತಿಯೊಬ್ಬರಿಗೂ ಉನ್ನತ ಯಾಂತ್ರಿಕ ಕಲಿಕೆ ಸಾಧನಗಳನ್ನು ಲಭ್ಯವಾಗಿಸುವ ಮೂಲಕ, ನಾವು ಒಟ್ಟಾಗಿ ಭವಿಷ್ಯವನ್ನು ನಿರ್ಮಿಸುತ್ತೇವೆ. ನಮ್ಮ ಓಪನ್-ಮೂಲ ವೇದಿಕೆ ಅತ್ಯುತ್ತಮ ಮಾದರಿಗಳು ಮತ್ತು ಡೇಟಾಸೆಟ್‌ಗಳ ಅಭಿವೃದ್ಧಿಯನ್ನು ಬೆಂಬಲಿಸುತ್ತದೆ, ನಾವೆಲ್ಲಾ ಕಾರ್ಯಕ್ಷಮತೆ ಮತ್ತು ಏಕಕಾಲದ ಬಳಕೆಯ ಅವಕಾಶವನ್ನು ಪದೇ ಪದೇ ಪಡೆದುಕೊಳ್ಳುತ್ತೇವೆ.\n",
       "\n",
       "---\n",
       "\n",
       "## ನಾವು ಏನು ನೀಡುತ್ತೇವೆ\n",
       "\n",
       "- **ಮಾದರಿಗಳು**: ಪಠ್ಯದಿಂದ ಚಿತ್ರ ಪ್ರಕ್ರಿಯೆ, ವಿಡಿಯೋ ವಿಶ್ಲೇಷಣೆ ಮತ್ತು ಇನ್ನಷ್ಟು ವಿಭಾಗಗಳಿಗೆ 10% ವೈದ್ಯಕೀಯ ಸಂಪತ್ತು ನುರಿತ ಸಮುದಾಯವು AI ಸಂಪತ್ತು ವ್ಯಾಪಾರವನ್ನು ಪುನರಾವೃತ್ತ ಓಪನ್-ಮೂಲ ಪಠ್ಯ ಲೇಖನ (LE) ಬಳಸಲಾಗುತ್ತದೆ.\n",
       "\n",
       "- **ಡೇಟಾಸೆಟ್‌ಗಳು**: ನಿಮ್ಮ ಪ್ರಾಜೆಕ್ಟ್‌ಗಳಿಗೆ ತಾಂಗುವ ಮೂಲಕ, 250,000ಕ್ಕೂ ಹೆಚ್ಚು ಸಾರ್ವಜನಿಕ ಡೇಟಾಪತ್ರಗಳು ಹಂಚಿಕೊಳ್ಳುವ ಸಜ್ಜಗಣದಾಸೆಯಿಂದ ಬೆಂಬಲಿಸುತ್ತವೆ.\n",
       "\n",
       "- **ಸ್ಪೇಸ್‌ಗಳು**: ನಿಮ್ಮ ಅಪ್ಲಿಕೇಶನ್‌ಗಳನ್ನು ಸುಲಭವಾಗಿ ನಿರ್ವಹಿಸಲು ಆಯ್ಕೆ ಮಾಡಬಹುದು.\n",
       "\n",
       "- **ಉದ್ಯಮ ಪರಿಹಾರಗಳು**: ನಮ್ಮ ಉದ್ಯಮ-ಮಟ್ಟದ ವ್ಯವಹಾರಗಳು ಉತ್ತಮ ಭದ್ರತೆ, ವಿಶೇಷ ಬೆಂಬಲವನ್ನು ನೀಡುತ್ತವೆ.\n",
       "\n",
       "- **ಕಂಪ್ಯೂಟ್**: ನಿರ್ವಹಿತ ಇಂಜಿನಿಯರಿಂಗ್ ಏಷಾಕ್‌ಗಳನ್ನು $0.60/ಗಂಟೆ ಪ್ರಾರಂಭಿಸುತ್ತವೆ.\n",
       "\n",
       "---\n",
       "\n",
       "## ನಮ್ಮ ಗ್ರಾಹಕರು\n",
       "\n",
       "ಹಗಿಂಗ್ ಫೇಸ್ 50,000ಕ್ಕೂ ಹೆಚ್ಚು ಸಂಸ್ಥೆಗಳಿಗೆ ಉಲ್ಲೇಖಿಸುತ್ತಿದೆ, ಇದರಲ್ಲಿ ಉತ್ತಮವು:\n",
       "\n",
       "- **ಮೆಟಾವರ್ಸ್ ನಾಯಕರಿಗೆ**: ಮೆಟಾದ ಎಐ.\n",
       "- **ಕರ್ನಾಟಕದ ಕಂಬನಿಗಳ**: ಅಫೆಸ್ಟ್ ವಾದದ ಬೆವ್ವಾನ್, Google.\n",
       "- **ತಂತ್ರಜ್ಞಾನಗಳ ಮಧ್ಯಸ್ಥಿಕೆ**: Microsoft, Intel.\n",
       "- **ಸೃಜನಾತ್ಮಕ ಪರಿಹಾರಗಳು**: Grammarly, Writer.\n",
       "\n",
       "ನಮ್ಮ ವೇದಿಕೆಯನ್ನು ಸ್ವಾಯತ್ತ ಸಂಶೋಧಕರಿಂದ ಹಿಡಿದು, ದೊಡ್ಡ ಕಂಪನಿಯ ತಂತ್ರಜ್ಞಾನವನ್ನು ಬೆಂಬಲಿಸುವಂತೆ ರೂಪಿಸಲಾಗಿದೆ.\n",
       "\n",
       "---\n",
       "\n",
       "## ಕಂಪನಿಯ ಸಾಂಸ್ಕೃತಿಕ\n",
       "\n",
       "ಹಗಿಂಗ್ ಫೇಸ್‌ನಲ್ಲಿ, ನಾವು ಒಳಕೋಡು, ಸಹಯೋಗ ಮತ್ತು ನಾವೀನ್ಯತೆಗಳ ಸಾಂಸ್ಕೃತಿಕವನ್ನು ಉತ್ತೇಜಿಸುತ್ತೇವೆ. ನಮ್ಮ ತಂಡದ ಸದಸ್ಯರು ತಮ್ಮ ಆಲೋಚನೆಗಳನ್ನು ಮತ್ತು ಪರಿಣತಿಯನ್ನು ಹಂಚಿಕೊಳ್ಳಲು ನಾವು ಉತ್ಸಾಹಿಸುತ್ತೇವೆ, ಇದು AI ಕ್ಷೇತ್ರವನ್ನು ಮುನ್ನಡೆಸುವಲ್ಲಿಗೆ ಒಡ್ಡುವ ಚಟುವಟಿಕೆಯನ್ನು ಮತ್ತು ಪ್ರಭೇಕಾರಿಯಾಗಿ ಹೊಡೆಯುತ್ತಿದೆ. ನಮ್ಮ ಆಳವಾದ ತತ್ವವನ್ನು ಈ ಒಳಹೊರೆಯಲಾಗುತ್ತದೆ, ಇದು ವಿಶೇಷ ರೀತಿಯಲ್ಲಿನ ಪ್ರಾಬಲ್ಯ ಮತ್ತು ಸಾಮಾಜಿಕ ಶಿಕ್ಷಣವನ್ನು ಉತ್ತೇಜಿಸುತ್ತದೆ, ತಂತ್ರಜ್ಞಾನ ಮತ್ತು AI ಗೆ ಆಸಕ್ತಿ ಹೊಂದಿರುವ ವ್ಯಕ್ತಿಗಳಿಗಾಗಿ ವಿಸ್ತೃತಕ್ಕೆ ಉತ್ತಮ ಸ್ಥಳವಾಗಿದೆ.\n",
       "\n",
       "---\n",
       "\n",
       "## ಉದ್ಯೋಗಾವಕಾಶಗಳು\n",
       "\n",
       "ನಮ್ಮ ಸಮಗ್ರವಾದ ತಂಡದಲ್ಲಿ ಸೇರಿ AI ನ ಭವಿಷ್ಯವನ್ನು ರೂಪಿಸವರಿಗೆ ಸಹಾಯ ಮಾಡು. software development, research, and support ನಲ್ಲಿ ಶ್ರೇಷ್ಠ ಕೊಡುಗೆಗೆ ಬಲವಾದ ವ್ಯಕ್ತಿಗಳನ್ನು ಹುಡುಕುತ್ತಿದ್ದೇವೆ.  ಹಗಿಂಗ್ ಫೇಸ್‌ನಲ್ಲಿ, ನೀವು ನಿಮ್ಮ ಕೌಶಲ್ಯಗಳನ್ನು ವೃದ್ಧಿಸಲು, ಪ್ರಮುಖ ಯೋಜನೆಗಳಲ್ಲಿ ಸಹಯೋಗಿಸಲು, ಮತ್ತು ಕ人工 inteligencia ಭಾರತದಲ್ಲಿ ಶ್ರೇಷ್ಟವಾದರೂ ವಿಷಯವನ್ನು ರೂಪಿಸಲು ಅವಕಾಶ ಪಡೆಯುತ್ತೀರಿ.\n",
       "\n",
       "ಉದ್ಯೋಗಾವಕಾಶಗಳ ಬಗ್ಗೆ ಹೆಚ್ಚಿನ ಮಾಹಿತಿಗೆ, ದಯವಿಟ್ಟು ನಮ್ಮ [ಜಾಬ್ಸ್ ಪುಟವನ್ನು](https://huggingface.co/jobs) ನೋಡಿ.\n",
       "\n",
       "---\n",
       "\n",
       "### ನಮ್ಮೊಂದಿಗೆ ಸಂಪರ್ಕಿಸಿ\n",
       "\n",
       "ನವೀನ ವಿಷಯಗಳನ್ನು ಪಡೆಯಲು ಮತ್ತು ನಮ್ಮ ಸಾಮಾಜಿಕ ಚಾನಲ್‌ಗಳನ್ನು ಅನುಸರಿಸಿ:\n",
       "\n",
       "- [ಟ್ವಿಟ್ಟರ್](https://twitter.com/huggingface)\n",
       "- [ಲಿಂಕ್ಡ್‌ಇನ್](https://www.linkedin.com/company/huggingface)\n",
       "- [ಗಿಥಬ್](https://github.com/huggingface)\n",
       "- [ಡಿಸ್ಕೋರ್ಡ್](https://discord.gg/huggingface)\n",
       "\n",
       "AI ಯ ಅಪಾಯ ವಿಭಾಗವನ್ನು ಅಭಿವೃದ್ಧಿ ಮತ್ತು ಈ ಪುಟವನ್ನು ಹೆಚ್ಚು ತಿಳಿಯಿರಿ [ಹಗಿಂಗ್ ಫೇಸ್](https://huggingface.co) ನಲ್ಲಿ.\n",
       "\n",
       "---\n",
       "\n",
       "AI ಯ ಪುನಾರ್ಘರದ ನಿರ್ಮಾಣ ಮತ್ತು ಭವಿಷ್ಯದ ಮಾದರಿಗಳಿಗೆ ಪರಿಣಾಮವನ್ನು ರೂಪಿಸಲು ನಮ್ಮೊಂದಿಗೆ ಒಟ್ಟಾಗಿ ಸೇರಿ!"
      ],
      "text/plain": [
       "<IPython.core.display.Markdown object>"
      ]
     },
     "metadata": {},
     "output_type": "display_data"
    }
   ],
   "source": [
    "#example output\n",
    "stream_translated_brochure(\"HuggingFace\",\"https://huggingface.co\")"
   ]
  },
  {
   "cell_type": "code",
   "execution_count": null,
   "id": "27ec799d-d582-4b10-b61d-e3fbef4f09f0",
   "metadata": {},
   "outputs": [],
   "source": []
  }
 ],
 "metadata": {
  "kernelspec": {
   "display_name": "Python 3 (ipykernel)",
   "language": "python",
   "name": "python3"
  },
  "language_info": {
   "codemirror_mode": {
    "name": "ipython",
    "version": 3
   },
   "file_extension": ".py",
   "mimetype": "text/x-python",
   "name": "python",
   "nbconvert_exporter": "python",
   "pygments_lexer": "ipython3",
   "version": "3.11.11"
  }
 },
 "nbformat": 4,
 "nbformat_minor": 5
}
