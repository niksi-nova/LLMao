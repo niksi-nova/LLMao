{
 "cells": [
  {
   "cell_type": "code",
   "execution_count": 13,
   "id": "a475b7b2-7f4a-4f28-82a0-832c72abd29c",
   "metadata": {},
   "outputs": [],
   "source": [
    "#Simple Airline booking and information providing chatbot\n",
    "#with interactive interface and creating and using tools with openai"
   ]
  },
  {
   "cell_type": "code",
   "execution_count": 14,
   "id": "00576a9f-3e1e-4745-a1d7-06f5bcb2c6ad",
   "metadata": {},
   "outputs": [],
   "source": [
    "# imports\n",
    "\n",
    "import os\n",
    "import json\n",
    "from dotenv import load_dotenv\n",
    "from openai import OpenAI\n",
    "import gradio as gr"
   ]
  },
  {
   "cell_type": "code",
   "execution_count": 15,
   "id": "dcdcc09c-898b-4bb4-9238-ca4e8ddb0ec8",
   "metadata": {},
   "outputs": [
    {
     "name": "stdout",
     "output_type": "stream",
     "text": [
      "OpenAI API Key exists and begins sk-proj-\n"
     ]
    }
   ],
   "source": [
    "load_dotenv()\n",
    "\n",
    "openai_api_key = os.getenv('OPENAI_API_KEY')\n",
    "if openai_api_key:\n",
    "    print(f\"OpenAI API Key exists and begins {openai_api_key[:8]}\")\n",
    "else:\n",
    "    print(\"OpenAI API Key not set\")\n",
    "    \n",
    "MODEL = \"gpt-4o-mini\"\n",
    "openai = OpenAI()"
   ]
  },
  {
   "cell_type": "code",
   "execution_count": 27,
   "id": "d31d2198-9006-4e7e-a5b5-2d1cf72f292d",
   "metadata": {},
   "outputs": [],
   "source": [
    "system_message = \"You are a helpful assistant for an Airline called FlightAI. \"\n",
    "system_message += \"Give short, courteous answers, no more than 1 sentence. \"\n",
    "system_message += \"Always be accurate. If you don't know the answer, say so.\""
   ]
  },
  {
   "cell_type": "code",
   "execution_count": 28,
   "id": "6ffb2805-ed11-470a-b948-4d63c5c5f7a3",
   "metadata": {},
   "outputs": [],
   "source": [
    "ticket_prices = {\"london\": \"$799\", \"paris\": \"$899\", \"tokyo\": \"$1400\", \"berlin\": \"$499\"}\n",
    "\n",
    "def get_ticket_price(destination_city):\n",
    "    print(f\"Tool get_ticket_price called for {destination_city}\")\n",
    "    city = destination_city.lower()\n",
    "    return ticket_prices.get(city, \"Unknown\")"
   ]
  },
  {
   "cell_type": "code",
   "execution_count": 29,
   "id": "0af4c4e2-b4eb-41ee-828d-d2d82c71fccd",
   "metadata": {},
   "outputs": [],
   "source": [
    "available_flights={\"london\": \"9\", \"paris\": \"8\", \"tokyo\": \"10\", \"berlin\": \"4\"}\n",
    "def get_flights_available(destination_city):\n",
    "    print(f\"Tool get_flights_available called for {destination_city}\")\n",
    "    city=destination_city.lower()\n",
    "    return available_flights.get(city,\"Unknown\")"
   ]
  },
  {
   "cell_type": "code",
   "execution_count": 30,
   "id": "2afc2dfd-57c3-44d6-b8f5-5370eb4249ca",
   "metadata": {},
   "outputs": [],
   "source": [
    "def booking(name, destination_city, seatnum):\n",
    "    print(f\"Tool booking called for {name}, {destination_city}, {seatnum}\")\n",
    "    city = destination_city.lower()\n",
    "    booking_data = [{\"name\": name, \"destination\": city, \"number of seats\": seatnum}]\n",
    "    with open(\"bookings.txt\", 'a') as f:\n",
    "        json.dump(booking_data, f)  # Write as JSON\n",
    "        f.write(\"\\n\")  # New line for readability\n",
    "    return f\"Booking Complete with this information: {booking_data}\""
   ]
  },
  {
   "cell_type": "code",
   "execution_count": 31,
   "id": "450a9bd0-0700-40b7-a5bc-3a049e7eb81b",
   "metadata": {},
   "outputs": [],
   "source": [
    "booking_func={\n",
    "    \"name\":\"booking\",\n",
    "    \"description\":\"Whenever the user requests to make a booking, we will use this tool to append the booking details into a text file.\",\n",
    "    \"parameters\":{\n",
    "        \"type\":\"object\",\n",
    "        \"properties\":{\n",
    "        \"destination_city\":{\n",
    "            \"type\":\"string\",\n",
    "            \"description\":\"the final city the customer wants to travel to\",},\n",
    "        \"name\":{\n",
    "            \"type\":\"string\",\n",
    "            \"description\":\"Customer's name\"},\n",
    "        \"seatnum\":{\n",
    "            \"type\":\"string\",\n",
    "            \"description\":\"The number of flight seats the customer wants to book or reserve\"},\n",
    "    },\n",
    "    \"required\":[\"destination_city\",\"name\",\"seatnum\"],\n",
    "    \"additionalProperties\":False\n",
    "}}\n"
   ]
  },
  {
   "cell_type": "code",
   "execution_count": 32,
   "id": "1079287b-51f6-4b60-add4-7ec79a363522",
   "metadata": {},
   "outputs": [],
   "source": [
    "price_function = {\n",
    "    \"name\": \"get_ticket_price\",\n",
    "    \"description\": \"Get the price of a return ticket to the destination city. Call this whenever you need to know the ticket price, for example when a customer asks 'How much is a ticket to this city'\",\n",
    "    \"parameters\": {\n",
    "        \"type\": \"object\",\n",
    "        \"properties\": {\n",
    "            \"destination_city\": {\n",
    "                \"type\": \"string\",\n",
    "                \"description\": \"The city that the customer wants to travel to\",\n",
    "            },\n",
    "        },\n",
    "        \"required\": [\"destination_city\"],\n",
    "        \"additionalProperties\": False\n",
    "    }\n",
    "}"
   ]
  },
  {
   "cell_type": "code",
   "execution_count": 33,
   "id": "73b1dd06-5713-4a00-9a8b-53fbbdc24477",
   "metadata": {},
   "outputs": [],
   "source": [
    "availability={\n",
    "    \"name\":\"get_flights_available\",\n",
    "    \"description\":\"Gets the value of the number of flights available to the destination city in the current week.\\\n",
    "    Call this whenever you need to know the number of available fligts that week for example,\\\n",
    "    when the customer asks 'How many flights are available to the city?'\",\n",
    "    \"parameters\":{\n",
    "        \"type\":\"object\",\n",
    "        \"properties\":{\n",
    "            \"destination_city\":{\n",
    "                \"type\":\"string\",\n",
    "                \"description\":\"The city that the customer wants to know number of flights available to\",\n",
    "            },\n",
    "        },\n",
    "        \"required\":[\"destination_city\"],\n",
    "        \"additionalProperties\":False\n",
    "    }\n",
    "}"
   ]
  },
  {
   "cell_type": "code",
   "execution_count": 34,
   "id": "084c5095-0f55-4175-adb7-0faae5f88de0",
   "metadata": {},
   "outputs": [],
   "source": [
    "tools = [{\"type\": \"function\", \"function\": price_function},{\"type\":\"function\",\"function\":availability},{\"type\":\"function\",\"function\":booking_func}]"
   ]
  },
  {
   "cell_type": "code",
   "execution_count": 35,
   "id": "8973b98e-7f58-40a7-8dbe-11b7157d8819",
   "metadata": {},
   "outputs": [],
   "source": [
    "def chat(message, history):\n",
    "    messages = [{\"role\": \"system\", \"content\": system_message}] + history + [{\"role\": \"user\", \"content\": message}]\n",
    "    response = openai.chat.completions.create(model=MODEL, messages=messages, tools=tools)\n",
    "\n",
    "    if response.choices[0].finish_reason==\"tool_calls\":\n",
    "        message = response.choices[0].message\n",
    "        response, city = handle_tool_call(message)\n",
    "        messages.append(message)\n",
    "        messages.extend(response)\n",
    "        response = openai.chat.completions.create(model=MODEL, messages=messages)\n",
    "    \n",
    "    return response.choices[0].message.content\n",
    "\n"
   ]
  },
  {
   "cell_type": "code",
   "execution_count": 36,
   "id": "e856524a-169f-427d-8421-ef2beff6bc6d",
   "metadata": {},
   "outputs": [],
   "source": [
    "def handle_tool_call(message):\n",
    "    responses = []  \n",
    "    cities = []     \n",
    "\n",
    "    for tool_call in message.tool_calls:\n",
    "        tool_name = tool_call.function.name\n",
    "        arguments = json.loads(tool_call.function.arguments)\n",
    "        city = arguments.get('destination_city')\n",
    "        name=arguments.get('name')\n",
    "        seatnum=arguments.get('seatnum')\n",
    "\n",
    "        if tool_name == \"get_ticket_price\":\n",
    "            price = get_ticket_price(city)\n",
    "            response = {\n",
    "                \"role\": \"tool\",\n",
    "                \"content\": json.dumps({\"destination_city\": city, \"price\": price}),\n",
    "                \"tool_call_id\": tool_call.id\n",
    "            }\n",
    "        elif tool_name == \"get_flights_available\":\n",
    "            availability = get_flights_available(city)\n",
    "            response = {\n",
    "                \"role\": \"tool\",\"content\": json.dumps({\"destination_city\": city, \"availability\": availability}),\n",
    "                \"tool_call_id\": tool_call.id\n",
    "            }\n",
    "        elif tool_name==\"booking\":\n",
    "            status=booking(name,city,seatnum)\n",
    "            response={\n",
    "                \"role\":\"tool\",\n",
    "                \"content\":json.dumps({\"status\":status}),\n",
    "                \"tool_call_id\":tool_call.id\n",
    "            }\n",
    "        else:\n",
    "            response = {\n",
    "                \"role\": \"tool\",\n",
    "                \"content\": json.dumps({\"error\": f\"Unknown tool: {tool_name}\"}),\n",
    "                \"tool_call_id\": tool_call.id\n",
    "            }\n",
    "\n",
    "        responses.append(response)\n",
    "        cities.append(city) \n",
    "\n",
    "    return responses, cities"
   ]
  },
  {
   "cell_type": "code",
   "execution_count": null,
   "id": "38027d9c-136b-4d3e-b958-a7e2a74a6c44",
   "metadata": {},
   "outputs": [],
   "source": [
    "gr.ChatInterface(fn=chat, type=\"messages\").launch()"
   ]
  },
  {
   "cell_type": "code",
   "execution_count": null,
   "id": "520d952c-fae4-450f-b0fa-23ad0afcd34f",
   "metadata": {},
   "outputs": [],
   "source": []
  }
 ],
 "metadata": {
  "kernelspec": {
   "display_name": "Python 3 (ipykernel)",
   "language": "python",
   "name": "python3"
  },
  "language_info": {
   "codemirror_mode": {
    "name": "ipython",
    "version": 3
   },
   "file_extension": ".py",
   "mimetype": "text/x-python",
   "name": "python",
   "nbconvert_exporter": "python",
   "pygments_lexer": "ipython3",
   "version": "3.11.11"
  }
 },
 "nbformat": 4,
 "nbformat_minor": 5
}
